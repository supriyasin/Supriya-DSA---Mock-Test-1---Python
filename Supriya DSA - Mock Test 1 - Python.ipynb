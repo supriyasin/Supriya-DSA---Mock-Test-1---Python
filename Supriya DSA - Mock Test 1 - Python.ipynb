{
 "cells": [
  {
   "cell_type": "code",
   "execution_count": 1,
   "id": "bedbe99d",
   "metadata": {},
   "outputs": [
    {
     "name": "stdout",
     "output_type": "stream",
     "text": [
      "[1, 3, 12, 0, 0]\n"
     ]
    }
   ],
   "source": [
    "#Move Zeroes\n",
    "\n",
    "Given an integer array nums, move all 0's to the end of it while maintaining the relative order of the non-zero elements.\n",
    "\n",
    "Note that you must do this in-place without making a copy of the array.\n",
    "\n",
    "Example 1:\n",
    "Input: nums = [0,1,0,3,12]\n",
    "Output: [1,3,12,0,0]\n",
    "\n",
    "Example 2:\n",
    "Input: nums = [0]\n",
    "Output: [0]\n",
    "\n",
    "Constraints:\n",
    "a. 1 <= nums.length <= 10^4\n",
    "b. -2^31 <= nums[i] <= 2^31 - 1\n",
    "\n",
    "Note: Create a GitHub file for the solution and add the file link the the answer section below.\n",
    "    \n",
    "\"\"\"To solve this problem, we can use a two-pointer approach. We'll maintain two pointers, left and right, where left points\n",
    "   to the current position where a non-zero element should be placed, and right traverses the array to find non-zero elements.\n",
    "\n",
    "  Here's the step-by-step algorithm to solve the problem in-place:\n",
    "\n",
    "  1. Initialize left and right as 0.\n",
    "  2. Iterate through the array using the right pointer:\n",
    "     . If the element at right is non-zero, swap it with the element at left and increment both left and right.\n",
    "     . If the element at right is zero, only increment right.\n",
    "  3. After the iteration, all non-zero elements have been placed at their correct positions. We can fill the remaining\n",
    "     positions from left till the end of the array with zeros.\"\"\"\n",
    "\n",
    "#Here's the implementation in Python:\n",
    "\n",
    "\n",
    "def moveZeroes(nums):\n",
    "    left = right = 0\n",
    "    n = len(nums)\n",
    "\n",
    "    while right < n:\n",
    "        if nums[right] != 0:\n",
    "            nums[left], nums[right] = nums[right], nums[left]\n",
    "            left += 1\n",
    "        right += 1\n",
    "\n",
    "    while left < n:\n",
    "        nums[left] = 0\n",
    "        left += 1\n",
    "\n",
    "    return nums\n",
    "nums = [0, 1, 0, 3, 12]\n",
    "result = moveZeroes(nums)\n",
    "print(result)\n"
   ]
  },
  {
   "cell_type": "code",
   "execution_count": null,
   "id": "e5ad18d7",
   "metadata": {},
   "outputs": [],
   "source": []
  }
 ],
 "metadata": {
  "kernelspec": {
   "display_name": "Python 3 (ipykernel)",
   "language": "python",
   "name": "python3"
  },
  "language_info": {
   "codemirror_mode": {
    "name": "ipython",
    "version": 3
   },
   "file_extension": ".py",
   "mimetype": "text/x-python",
   "name": "python",
   "nbconvert_exporter": "python",
   "pygments_lexer": "ipython3",
   "version": "3.9.12"
  }
 },
 "nbformat": 4,
 "nbformat_minor": 5
}
